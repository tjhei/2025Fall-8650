{
 "cells": [
  {
   "cell_type": "markdown",
   "metadata": {},
   "source": [
    "# Homework 02\n",
    "\n",
    "Please fill in: YOUR_NAME_HERE"
   ]
  },
  {
   "cell_type": "markdown",
   "metadata": {},
   "source": [
    "## Question 7\n",
    "Finish the implementation of binary search."
   ]
  },
  {
   "cell_type": "code",
   "execution_count": null,
   "metadata": {},
   "outputs": [],
   "source": [
    "def binary_search(arr, key, imin, imax):\n",
    "    if imin>imax:\n",
    "        return -1\n",
    "\n",
    "    m = (imin+imax)//2\n",
    "\n",
    "    if key<arr[m]:\n",
    "        return binary_search(arr,key,imin, m-1)\n",
    "    elif key>arr[m]:\n",
    "        return binary_search(arr,key,m+1, imax)\n",
    "    else:\n",
    "        return m\n",
    "\n",
    "def find(arr, x):\n",
    "    \"\"\" return index i so that arr[i]==x or -1 if x is not in arr[imin:imax]\"\"\"\n",
    "    return binary_search(arr,x,0,len(arr)-1)\n"
   ]
  },
  {
   "cell_type": "code",
   "execution_count": null,
   "metadata": {},
   "outputs": [],
   "source": [
    "# checks, make sure they all return true\n",
    "print (3==find([1,3,7,8,11,17],8))\n",
    "print (0==find([1,3,7,8,11],1))\n",
    "print (0==find([1],1))\n",
    "\n",
    "print (-1==find([1,3,7,8,11],4))\n",
    "print (-1==find([],1))\n",
    "print (-1==find([3],1))"
   ]
  },
  {
   "cell_type": "code",
   "execution_count": null,
   "metadata": {},
   "outputs": [],
   "source": [
    "# Why does the algorithm not find the solution in the following example?\n",
    "print (find([4,5,3],3))"
   ]
  },
  {
   "cell_type": "code",
   "execution_count": null,
   "metadata": {},
   "outputs": [],
   "source": [
    "# Your answer here:\n",
    "# Answer: the array is not sorted"
   ]
  },
  {
   "cell_type": "code",
   "execution_count": null,
   "metadata": {},
   "outputs": [],
   "source": []
  }
 ],
 "metadata": {
  "kernelspec": {
   "display_name": "Python 3 (ipykernel)",
   "language": "python",
   "name": "python3"
  },
  "language_info": {
   "codemirror_mode": {
    "name": "ipython",
    "version": 3
   },
   "file_extension": ".py",
   "mimetype": "text/x-python",
   "name": "python",
   "nbconvert_exporter": "python",
   "pygments_lexer": "ipython3",
   "version": "3.13.5"
  }
 },
 "nbformat": 4,
 "nbformat_minor": 4
}
