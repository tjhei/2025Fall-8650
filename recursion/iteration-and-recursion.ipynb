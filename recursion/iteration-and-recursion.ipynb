{
 "cells": [
  {
   "cell_type": "markdown",
   "metadata": {},
   "source": [
    "## Iteration and Recursion\n",
    "\n",
    "for a c++ version see https://godbolt.org/z/fvzd8E8Pz"
   ]
  },
  {
   "cell_type": "code",
   "execution_count": null,
   "metadata": {},
   "outputs": [],
   "source": [
    "# use for loops over while loops if you can!\n",
    "for i in range(1,5):\n",
    "    print (i)"
   ]
  },
  {
   "cell_type": "code",
   "execution_count": null,
   "metadata": {},
   "outputs": [],
   "source": [
    "# note that any enumerable thing can be on the right of \"in\":\n",
    "for x in [\"the\", \"snowman\",\"is\",\"melting\"]:\n",
    "    print (len(x))"
   ]
  },
  {
   "cell_type": "markdown",
   "metadata": {},
   "source": [
    "factorial(n):"
   ]
  },
  {
   "cell_type": "code",
   "execution_count": null,
   "metadata": {},
   "outputs": [],
   "source": [
    "# a recursive way to compute factorial\n",
    "def fac_r(n):\n",
    "    if n==0: \n",
    "        return 1\n",
    "    else:\n",
    "        return n*fac_r(n-1)\n",
    "\n",
    "fac_r(100)"
   ]
  },
  {
   "cell_type": "code",
   "execution_count": null,
   "metadata": {},
   "outputs": [],
   "source": [
    "# how about iteratively?\n",
    "def fac_i(n):\n",
    "    result = 1\n",
    "    for k in range(1,n+1):\n",
    "        result *= k\n",
    "    return result\n",
    "\n",
    "fac_i(100)"
   ]
  },
  {
   "cell_type": "code",
   "execution_count": null,
   "metadata": {},
   "outputs": [],
   "source": [
    "n=1000\n",
    "fac_bcr(n) == fac_i(n)"
   ]
  },
  {
   "cell_type": "code",
   "execution_count": null,
   "metadata": {},
   "outputs": [],
   "source": [
    "# this gives a stack overflow:\n",
    "fac_r(10000)"
   ]
  }
 ],
 "metadata": {
  "kernelspec": {
   "display_name": "Python 3 (ipykernel)",
   "language": "python",
   "name": "python3"
  },
  "language_info": {
   "codemirror_mode": {
    "name": "ipython",
    "version": 3
   },
   "file_extension": ".py",
   "mimetype": "text/x-python",
   "name": "python",
   "nbconvert_exporter": "python",
   "pygments_lexer": "ipython3",
   "version": "3.13.5"
  }
 },
 "nbformat": 4,
 "nbformat_minor": 4
}
