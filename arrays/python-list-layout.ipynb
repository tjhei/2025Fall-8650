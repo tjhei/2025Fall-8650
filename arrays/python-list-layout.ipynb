{
 "cells": [
  {
   "cell_type": "markdown",
   "metadata": {},
   "source": [
    "## Inspecting the memory layout of a Python list\n",
    "\n",
    "based on https://jakevdp.github.io/blog/2014/05/09/why-python-is-slow/"
   ]
  },
  {
   "cell_type": "code",
   "execution_count": null,
   "metadata": {},
   "outputs": [],
   "source": [
    "import sys\n",
    "import ctypes\n",
    "import numpy as np"
   ]
  },
  {
   "cell_type": "code",
   "execution_count": null,
   "metadata": {},
   "outputs": [],
   "source": [
    "x=[1,[2,3]]\n",
    "print(\"x = {} has type {}\".format(x, type(x)))\n",
    "i = x[0]\n",
    "print(\"i = {} has type {} and uses {} bytes\".format(i, type(i), sys.getsizeof(i)))\n",
    "y=1.2\n",
    "print(\"y = {} has type {} and uses {} bytes\".format(y, type(y), sys.getsizeof(y)))"
   ]
  },
  {
   "cell_type": "code",
   "execution_count": null,
   "metadata": {},
   "outputs": [],
   "source": [
    "# what is the data type for integers?\n",
    "N=10000\n",
    "print(\"N={} has type {}\".format(N, type(N)))"
   ]
  },
  {
   "cell_type": "code",
   "execution_count": null,
   "metadata": {},
   "outputs": [],
   "source": [
    "# Integers are dynamically sized! Check its size in bytes:\n",
    "a=46560000000000000000000000000000000000000\n",
    "\n",
    "print(\"a has type\", type(a))\n",
    "\n",
    "print(\"bytes used to store 1:\", sys.getsizeof(1))\n",
    "print(\"bytes used to store a:\", sys.getsizeof(a))"
   ]
  },
  {
   "cell_type": "code",
   "execution_count": null,
   "metadata": {},
   "outputs": [],
   "source": [
    "class IntStruct(ctypes.Structure): # PyLongObject\n",
    "    _fields_ = [(\"ob_refcnt\", ctypes.c_long),\n",
    "                (\"ob_type\", ctypes.c_void_p),\n",
    "                (\"ob_size\", ctypes.c_ulong),\n",
    "                (\"ob_digit\", ctypes.c_uint32)]"
   ]
  },
  {
   "cell_type": "markdown",
   "metadata": {},
   "source": [
    "This is how an int is represented in memory:"
   ]
  },
  {
   "cell_type": "code",
   "execution_count": null,
   "metadata": {},
   "outputs": [],
   "source": [
    "x = 10000 # change to a really large number\n",
    "y = x\n",
    "# z = x\n",
    "# help(id)\n",
    "\n",
    "print(\"ids:\", id(x), id(y), id(100), id(1234567))\n",
    "\n",
    "info=IntStruct.from_address(id(x))\n",
    "print(\"refcount =\", info.ob_refcnt, \n",
    "      \"type =\", info.ob_type,\n",
    "      \"size =\", info.ob_size, \n",
    "      \"digits =\", info.ob_digit)"
   ]
  },
  {
   "cell_type": "markdown",
   "metadata": {},
   "source": [
    "How about a List?"
   ]
  },
  {
   "cell_type": "code",
   "execution_count": null,
   "metadata": {},
   "outputs": [],
   "source": [
    "class ListStruct(ctypes.Structure): # struct PyListObject\n",
    "    _fields_ = [(\"ob_refcnt\", ctypes.c_long),\n",
    "                (\"ob_type\", ctypes.c_void_p),\n",
    "                (\"ob_size\", ctypes.c_ulong),\n",
    "                (\"ob_item\", ctypes.c_void_p),\n",
    "                (\"allocated\", ctypes.c_ulong)]\n",
    "\n",
    "x = [1,[2,3]]\n",
    "\n",
    "info = ListStruct.from_address(id(x))\n",
    "print(\"refcount =\", info.ob_refcnt, \n",
    "      \"type =\", info.ob_type,\n",
    "      \"size =\", info.ob_size, \n",
    "      \"item =\", hex(info.ob_item),\n",
    "      \"allocated = \", info.allocated)\n"
   ]
  },
  {
   "cell_type": "markdown",
   "metadata": {},
   "source": [
    "What happens if we append to the list x?"
   ]
  },
  {
   "cell_type": "code",
   "execution_count": null,
   "metadata": {},
   "outputs": [],
   "source": [
    "y = x # this increases reference count\n",
    "x.append(4) # this will resize the array\n",
    "info = ListStruct.from_address(id(x))\n",
    "print(\"refcount =\", info.ob_refcnt, \n",
    "      \"type =\", info.ob_type,\n",
    "      \"size =\", info.ob_size, \n",
    "      \"item =\", hex(info.ob_item),\n",
    "      \"allocated = \", info.allocated)\n"
   ]
  }
 ],
 "metadata": {
  "kernelspec": {
   "display_name": "Python 3 (ipykernel)",
   "language": "python",
   "name": "python3"
  },
  "language_info": {
   "codemirror_mode": {
    "name": "ipython",
    "version": 3
   },
   "file_extension": ".py",
   "mimetype": "text/x-python",
   "name": "python",
   "nbconvert_exporter": "python",
   "pygments_lexer": "ipython3",
   "version": "3.11.6"
  }
 },
 "nbformat": 4,
 "nbformat_minor": 4
}
