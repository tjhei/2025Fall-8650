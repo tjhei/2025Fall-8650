{
 "cells": [
  {
   "cell_type": "markdown",
   "metadata": {},
   "source": [
    "# Exploring recursion and cutting branches"
   ]
  },
  {
   "cell_type": "code",
   "execution_count": null,
   "metadata": {},
   "outputs": [],
   "source": [
    "# three little helper functions:\n",
    "def sum_digits(n):\n",
    "    \"\"\" sum the digits of the number n in decimal \"\"\"\n",
    "    s = 0\n",
    "    while n>0:\n",
    "        s += n % 10\n",
    "        n //= 10\n",
    "    return s\n",
    "\n",
    "def count_digits(n):\n",
    "    \"\"\" return the number of digits of the number n in decimal \"\"\"\n",
    "    c = 0\n",
    "    while n>0:\n",
    "        c += 1\n",
    "        n //= 10\n",
    "    return c\n",
    "\n",
    "def has_zero(n):\n",
    "    \"\"\" does n have a zero in its decimal representation? \"\"\"\n",
    "    while n>0:\n",
    "        if n % 10 == 0:\n",
    "            return True\n",
    "        n //= 10\n",
    "    return False\n",
    "\n",
    "print (sum_digits(101010), sum_digits(12304), count_digits(123010))\n",
    "print (has_zero(123534), has_zero(302938))"
   ]
  },
  {
   "cell_type": "markdown",
   "metadata": {},
   "source": [
    "## sod(T) numbers\n",
    "We are interested in the numbers n without the digit \"0\" where the sum of the digits (SOD) equals a given target number T. Here is the list for T=4:"
   ]
  },
  {
   "cell_type": "code",
   "execution_count": null,
   "metadata": {},
   "outputs": [],
   "source": [
    "T = 4\n",
    "for n in range(1,10**T):\n",
    "    if sum_digits(n)==T and not has_zero(n):\n",
    "        print (n)"
   ]
  },
  {
   "cell_type": "code",
   "execution_count": null,
   "metadata": {},
   "outputs": [],
   "source": [
    "def count_sods(T):\n",
    "    count = 0\n",
    "    for n in range(10**T):\n",
    "        if sum_digits(n)==T and not has_zero(n):\n",
    "            count += 1\n",
    "            print (n)\n",
    "    return count\n",
    "\n",
    "for T in range(1,5):\n",
    "    print (\"numbers with digit sum {}: {}\".format(T, count_sods(T)))"
   ]
  },
  {
   "cell_type": "code",
   "execution_count": null,
   "metadata": {},
   "outputs": [],
   "source": [
    "# first remove the \"print n\" statement above and notice how slow we get for T=7\n",
    "for T in range(1,8):\n",
    "    c = count_sods(T)\n",
    "    print (\"numbers with digit sum {}: {}\".format(T, c))"
   ]
  },
  {
   "cell_type": "markdown",
   "metadata": {},
   "source": [
    "## Part 2\n",
    "Now lets try a recursive definition and cut the branches that won't be successful (sum is already bigger):"
   ]
  },
  {
   "cell_type": "code",
   "execution_count": null,
   "metadata": {},
   "outputs": [],
   "source": [
    "def sods(target, n=0, digitsum=0):\n",
    "    \n",
    "    if digitsum>target:        \n",
    "        return\n",
    "    \n",
    "    #if n>10**target:\n",
    "    #    return\n",
    "    #print (\"checking\", n)\n",
    "    \n",
    "    if digitsum == target:\n",
    "        print (\"found\", n)\n",
    "    for d in range(1,10):\n",
    "        sods(target, n*10+d, digitsum+d)\n",
    "    \n",
    "sods(4)"
   ]
  },
  {
   "cell_type": "markdown",
   "metadata": {},
   "source": [
    "Draw the tree of recursive function calls and discuss in what order we are traversing it (uncomment \"checking\" above)!"
   ]
  },
  {
   "cell_type": "code",
   "execution_count": null,
   "metadata": {},
   "outputs": [],
   "source": [
    "# now the same but counting the results:\n",
    "def count_sods2(target, n=0, digitsum=0):\n",
    "    if digitsum>target:\n",
    "        return 0\n",
    "    counter = 0\n",
    "    \n",
    "    if digitsum == target:\n",
    "        #print (\"found\", n)\n",
    "        counter += 1\n",
    "        \n",
    "    for d in range(1,10):\n",
    "        counter += count_sods2(target, n*10+d, digitsum+d)\n",
    "\n",
    "    return counter\n",
    "\n",
    "#print (count_sods2(4, 0, 0)) \n",
    "\n",
    "# how many SOD(4) numbers are there that start with \"21\"?\n",
    "\n",
    "for target in range(1,14):\n",
    "    print (\"numbers with digit sum {}: {}\".format(target, count_sods2(target)))"
   ]
  },
  {
   "cell_type": "markdown",
   "metadata": {},
   "source": [
    "## Harshad numbers\n",
    "https://en.wikipedia.org/wiki/Harshad_number"
   ]
  },
  {
   "cell_type": "code",
   "execution_count": null,
   "metadata": {},
   "outputs": [],
   "source": [
    "def is_harshad(n):\n",
    "    return n % sum_digits(n) == 0\n",
    "\n",
    "for n in range(1,100):\n",
    "    if is_harshad(n):\n",
    "        print (n)\n",
    "\n",
    "\n",
    "# 920067411130599+i is harshad for i=0..10    \n",
    "print (is_harshad(920067411130599+0))"
   ]
  },
  {
   "cell_type": "code",
   "execution_count": null,
   "metadata": {},
   "outputs": [],
   "source": [
    "def count_harshad(max_number, n=0, digitsum=0):\n",
    "    \"\"\" \"\"\"\n",
    "    count = 0\n",
    "    if n>max_number:\n",
    "        return count\n",
    "    if n>0 and n % digitsum == 0:\n",
    "        count += 1\n",
    "        #print (\"found\", n)\n",
    "    for d in range(10):\n",
    "        if d==0 and n==0:\n",
    "            continue\n",
    "    \n",
    "        count += count_harshad(max_number, n*10+d, digitsum+d)\n",
    "    return count\n",
    "        \n",
    "count_harshad(1000000)"
   ]
  },
  {
   "cell_type": "code",
   "execution_count": null,
   "metadata": {},
   "outputs": [],
   "source": [
    "# cons-consecutive harshad numbers?\n",
    "\n",
    "def harshard_cons(cons, n = 0, digitsum = 0):\n",
    "    if n>1000000:\n",
    "        return\n",
    "    if n>1 and n % digitsum == 0:\n",
    "        good = True\n",
    "        for x in range(n, n+cons):\n",
    "            if not is_harshad(x):\n",
    "                good = False\n",
    "                break\n",
    "        \n",
    "        if good and not is_harshad(n-1) and not is_harshad(n+cons):\n",
    "            print (\"found \", n)\n",
    "\n",
    "    for d in range(10):\n",
    "        \n",
    "        if d==0 and n==0:\n",
    "            continue\n",
    "    \n",
    "        harshard_cons(cons, n*10+d, digitsum+d)\n",
    "    \n",
    "harshard_cons(5)"
   ]
  },
  {
   "cell_type": "code",
   "execution_count": null,
   "metadata": {},
   "outputs": [],
   "source": [
    "# smallest cons-consecutive number?\n",
    "\n",
    "def harshard_cons_min(cons, n = 0, digitsum = 0, best=10**7):\n",
    "    if n>10000000:\n",
    "        return best\n",
    "    if n>best:\n",
    "        #print(\"skip because it is bigger than\", best)\n",
    "        return best\n",
    "        \n",
    "    if n>1 and n % digitsum == 0:\n",
    "        good = True\n",
    "        for x in range(n, n+cons):\n",
    "            if not is_harshad(x):\n",
    "                good = False\n",
    "                break\n",
    "        \n",
    "        if good and not is_harshad(n-1) and not is_harshad(n+cons):\n",
    "            print (\"found \", n)\n",
    "            return n\n",
    "\n",
    "    for d in range(10):\n",
    "        \n",
    "        if d==0 and n==0:\n",
    "            continue\n",
    "    \n",
    "        best = harshard_cons_min(cons, n*10+d, digitsum+d, best)\n",
    "    \n",
    "    return best\n",
    "\n",
    "harshard_cons_min(5)"
   ]
  },
  {
   "cell_type": "code",
   "execution_count": null,
   "metadata": {},
   "outputs": [],
   "source": []
  }
 ],
 "metadata": {
  "kernelspec": {
   "display_name": "Python 3 (ipykernel)",
   "language": "python",
   "name": "python3"
  },
  "language_info": {
   "codemirror_mode": {
    "name": "ipython",
    "version": 3
   },
   "file_extension": ".py",
   "mimetype": "text/x-python",
   "name": "python",
   "nbconvert_exporter": "python",
   "pygments_lexer": "ipython3",
   "version": "3.13.5"
  },
  "name": "numbers.ipynb"
 },
 "nbformat": 4,
 "nbformat_minor": 4
}
