{
 "cells": [
  {
   "cell_type": "markdown",
   "id": "f01b7a20-879e-4216-b4a7-39861d42a538",
   "metadata": {},
   "source": [
    "# Matrix demo 2\n",
    "Is it faster to use a numpy matrix instead of a simple array?"
   ]
  },
  {
   "cell_type": "code",
   "execution_count": null,
   "id": "7f91a3fd-45fb-4acc-a233-19edfd8a4d4a",
   "metadata": {},
   "outputs": [],
   "source": [
    "import math\n",
    "import time\n",
    "import numpy as np"
   ]
  },
  {
   "cell_type": "code",
   "execution_count": null,
   "id": "8b431770-31a2-4d07-8de2-7af486f66392",
   "metadata": {},
   "outputs": [],
   "source": [
    "def make_matrix(N):\n",
    "    matrix = np.zeros((N,N))\n",
    "    return matrix"
   ]
  },
  {
   "cell_type": "code",
   "execution_count": null,
   "id": "914634d6-3221-4115-b65e-facc295affb0",
   "metadata": {},
   "outputs": [],
   "source": [
    "def fill(matrix):\n",
    "    N = len(matrix)\n",
    "    for i in range (N):\n",
    "        for j in range (N):\n",
    "            matrix[i][j]=1.0*(i+j)\n",
    "m=make_matrix(5)\n",
    "fill(m)\n",
    "print(m)"
   ]
  },
  {
   "cell_type": "code",
   "execution_count": null,
   "id": "09004656-5269-46ef-b66c-bea7494b4a04",
   "metadata": {},
   "outputs": [],
   "source": [
    "def frob(matrix):\n",
    "    result = 0\n",
    "    N = len(matrix)\n",
    "    for i in range (N):\n",
    "        for j in range (N):\n",
    "            result += abs(matrix[i][j])**2\n",
    "    return math.sqrt(result)"
   ]
  },
  {
   "cell_type": "code",
   "execution_count": null,
   "id": "b4a08e34-7a24-48e7-be14-20cd98c30339",
   "metadata": {},
   "outputs": [],
   "source": [
    "matrix = make_matrix(4000)\n",
    "fill(matrix)\n",
    "\n",
    "t1=time.perf_counter()\n",
    "print(\"Norm =\", frob(matrix))\n",
    "print(\"This took %.4fs\" % (time.perf_counter()-t1))"
   ]
  },
  {
   "cell_type": "code",
   "execution_count": null,
   "id": "4ca3deeb-8a79-473a-a9d8-9526748113ab",
   "metadata": {},
   "outputs": [],
   "source": [
    "t1=time.perf_counter()\n",
    "print(\"Norm =\", np.linalg.norm(matrix,'fro'))\n",
    "print(\"This took %.4fs\" % (time.perf_counter()-t1))"
   ]
  },
  {
   "cell_type": "code",
   "execution_count": null,
   "id": "41186f0e-82e5-4cee-9f26-10187d2ce3b3",
   "metadata": {},
   "outputs": [],
   "source": []
  }
 ],
 "metadata": {
  "kernelspec": {
   "display_name": "Python 3 (ipykernel)",
   "language": "python",
   "name": "python3"
  },
  "language_info": {
   "codemirror_mode": {
    "name": "ipython",
    "version": 3
   },
   "file_extension": ".py",
   "mimetype": "text/x-python",
   "name": "python",
   "nbconvert_exporter": "python",
   "pygments_lexer": "ipython3",
   "version": "3.10.5"
  }
 },
 "nbformat": 4,
 "nbformat_minor": 5
}
