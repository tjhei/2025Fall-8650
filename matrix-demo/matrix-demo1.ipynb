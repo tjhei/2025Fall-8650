{
 "cells": [
  {
   "cell_type": "markdown",
   "id": "6ef01bf9-338d-4eb4-88fb-436788d8999a",
   "metadata": {},
   "source": [
    "# Matrix demo\n",
    "Let's see how long it takes to take a Frobenius norm"
   ]
  },
  {
   "cell_type": "code",
   "execution_count": null,
   "id": "7f91a3fd-45fb-4acc-a233-19edfd8a4d4a",
   "metadata": {},
   "outputs": [],
   "source": [
    "import math\n",
    "import time"
   ]
  },
  {
   "cell_type": "code",
   "execution_count": null,
   "id": "8b431770-31a2-4d07-8de2-7af486f66392",
   "metadata": {},
   "outputs": [],
   "source": [
    "def make_matrix(N):\n",
    "    matrix = [[0] * N for i in range(N)]\n",
    "    return matrix"
   ]
  },
  {
   "cell_type": "code",
   "execution_count": null,
   "id": "914634d6-3221-4115-b65e-facc295affb0",
   "metadata": {},
   "outputs": [],
   "source": [
    "def fill(matrix):\n",
    "    N = len(matrix)\n",
    "    for i in range (N):\n",
    "        for j in range (N):\n",
    "            matrix[i][j]=1.0*(i+j)\n",
    "m=make_matrix(5)\n",
    "fill(m)\n",
    "print(m)            "
   ]
  },
  {
   "cell_type": "code",
   "execution_count": null,
   "id": "09004656-5269-46ef-b66c-bea7494b4a04",
   "metadata": {},
   "outputs": [],
   "source": [
    "def frob(matrix):\n",
    "    result = 0\n",
    "    N = len(matrix)\n",
    "    for i in range(N):\n",
    "        for j in range(N):\n",
    "            result += abs(matrix[i][j])**2\n",
    "    return math.sqrt(result)"
   ]
  },
  {
   "cell_type": "code",
   "execution_count": null,
   "id": "b4a08e34-7a24-48e7-be14-20cd98c30339",
   "metadata": {},
   "outputs": [],
   "source": [
    "# try 1000, 2000, 4000, 8000\n",
    "matrix = make_matrix(4000)\n",
    "fill(matrix)\n",
    "\n",
    "t1=time.perf_counter()\n",
    "print(\"Norm =\", frob(matrix))\n",
    "print(\"This took %.4fs\" % (time.perf_counter()-t1))"
   ]
  },
  {
   "cell_type": "code",
   "execution_count": null,
   "id": "fe2b83f4-027b-4056-855e-4cc2825589b7",
   "metadata": {},
   "outputs": [],
   "source": []
  }
 ],
 "metadata": {
  "kernelspec": {
   "display_name": "Python 3 (ipykernel)",
   "language": "python",
   "name": "python3"
  },
  "language_info": {
   "codemirror_mode": {
    "name": "ipython",
    "version": 3
   },
   "file_extension": ".py",
   "mimetype": "text/x-python",
   "name": "python",
   "nbconvert_exporter": "python",
   "pygments_lexer": "ipython3",
   "version": "3.10.5"
  }
 },
 "nbformat": 4,
 "nbformat_minor": 5
}
